{
 "cells": [
  {
   "cell_type": "code",
   "execution_count": 29,
   "metadata": {},
   "outputs": [],
   "source": [
    "import numpy as np\n",
    "import tensorflow as tf\n",
    "from tensorflow.keras.applications import InceptionV3\n",
    "from tensorflow.keras.models import Model\n",
    "from tensorflow.keras.layers import Dense, GlobalAveragePooling2D\n",
    "from tensorflow.keras.preprocessing.image import ImageDataGenerator"
   ]
  },
  {
   "cell_type": "code",
   "execution_count": 30,
   "metadata": {},
   "outputs": [
    {
     "name": "stdout",
     "output_type": "stream",
     "text": [
      "Found 2140 images belonging to 5 classes.\n",
      "Found 235 images belonging to 5 classes.\n"
     ]
    }
   ],
   "source": [
    "# Define constants\n",
    "input_shape = (224, 224, 3)\n",
    "num_classes = 5\n",
    "batch_size = 32\n",
    "epochs = 10\n",
    "\n",
    "# Data loading and preprocessing\n",
    "train_datagen = ImageDataGenerator(\n",
    "    rescale=1./255,\n",
    "    shear_range=0.2,\n",
    "    zoom_range=0.2,\n",
    "    horizontal_flip=True,\n",
    "    validation_split=0.10  # Splitting the data into training and validation sets\n",
    ")\n",
    "\n",
    "train_generator = train_datagen.flow_from_directory(\n",
    "    'D:\\\\Btech_AI\\\\Projects\\\\Gesture-recognition\\\\Dataset\\\\train',\n",
    "    target_size=(input_shape[0], input_shape[1]),\n",
    "    batch_size=batch_size,\n",
    "    class_mode='categorical',\n",
    "    subset='training'\n",
    ")\n",
    "\n",
    "\n",
    "validation_generator = train_datagen.flow_from_directory(\n",
    "    'D:\\\\Btech_AI\\\\Projects\\\\Gesture-recognition\\\\Dataset\\\\train',\n",
    "    target_size=(input_shape[0], input_shape[1]),\n",
    "    batch_size=batch_size,\n",
    "    class_mode='categorical',\n",
    "    subset='validation'\n",
    ")"
   ]
  },
  {
   "cell_type": "markdown",
   "metadata": {},
   "source": [
    "### Without K-fold cross Validation"
   ]
  },
  {
   "cell_type": "code",
   "execution_count": 31,
   "metadata": {},
   "outputs": [],
   "source": [
    "# Model building\n",
    "base_model = InceptionV3(weights='imagenet', include_top=False, input_shape=input_shape)\n",
    "x = base_model.output\n",
    "x = GlobalAveragePooling2D()(x)\n",
    "x = Dense(1024, activation='relu')(x)\n",
    "predictions = Dense(num_classes, activation='softmax')(x)\n",
    "model = Model(inputs=base_model.input, outputs=predictions)\n",
    "\n",
    "for layer in base_model.layers:\n",
    "    layer.trainable = False\n",
    "\n",
    "model.compile(optimizer='adam', loss='categorical_crossentropy', metrics=['accuracy'])\n"
   ]
  },
  {
   "cell_type": "code",
   "execution_count": 32,
   "metadata": {},
   "outputs": [
    {
     "name": "stdout",
     "output_type": "stream",
     "text": [
      "Epoch 1/10\n",
      "66/66 [==============================] - 30s 397ms/step - loss: 0.3398 - accuracy: 0.9051 - val_loss: 0.0481 - val_accuracy: 0.9911\n",
      "Epoch 2/10\n",
      "66/66 [==============================] - 26s 388ms/step - loss: 0.0387 - accuracy: 0.9862 - val_loss: 0.0643 - val_accuracy: 0.9777\n",
      "Epoch 3/10\n",
      "66/66 [==============================] - 25s 382ms/step - loss: 0.0358 - accuracy: 0.9862 - val_loss: 0.0392 - val_accuracy: 0.9911\n",
      "Epoch 4/10\n",
      "66/66 [==============================] - 26s 387ms/step - loss: 0.0369 - accuracy: 0.9867 - val_loss: 0.1402 - val_accuracy: 0.9598\n",
      "Epoch 5/10\n",
      "66/66 [==============================] - 26s 390ms/step - loss: 0.0325 - accuracy: 0.9886 - val_loss: 0.1009 - val_accuracy: 0.9598\n",
      "Epoch 6/10\n",
      "66/66 [==============================] - 25s 383ms/step - loss: 0.0328 - accuracy: 0.9896 - val_loss: 0.0237 - val_accuracy: 0.9866\n",
      "Epoch 7/10\n",
      "66/66 [==============================] - 26s 387ms/step - loss: 0.0117 - accuracy: 0.9957 - val_loss: 0.0433 - val_accuracy: 0.9821\n",
      "Epoch 8/10\n",
      "66/66 [==============================] - 25s 385ms/step - loss: 0.0113 - accuracy: 0.9967 - val_loss: 0.1146 - val_accuracy: 0.9688\n",
      "Epoch 9/10\n",
      "66/66 [==============================] - 25s 384ms/step - loss: 0.0130 - accuracy: 0.9953 - val_loss: 0.0126 - val_accuracy: 0.9955\n",
      "Epoch 10/10\n",
      "66/66 [==============================] - 26s 393ms/step - loss: 0.0096 - accuracy: 0.9972 - val_loss: 0.0664 - val_accuracy: 0.9777\n",
      "67/67 [==============================] - 23s 348ms/step - loss: 0.0074 - accuracy: 0.9977\n",
      "8/8 [==============================] - 3s 323ms/step - loss: 0.0492 - accuracy: 0.9872\n",
      "Training Loss: 0.007449657656252384\n",
      "Training Accuracy: 0.9976635575294495\n",
      "Validation Loss: 0.049236927181482315\n",
      "Validation Accuracy: 0.9872340559959412\n"
     ]
    }
   ],
   "source": [
    "# Training\n",
    "history = model.fit(\n",
    "    train_generator,\n",
    "    steps_per_epoch=train_generator.samples // batch_size,\n",
    "    epochs=epochs,\n",
    "    validation_data=validation_generator,\n",
    "    validation_steps=validation_generator.samples // batch_size\n",
    ")\n",
    "# Evaluate the model on the entire training set\n",
    "train_loss, train_accuracy = model.evaluate(train_generator, verbose=1)\n",
    "\n",
    "# Evaluate the model on the entire validation set\n",
    "val_loss, val_accuracy = model.evaluate(validation_generator, verbose=1)\n",
    "\n",
    "# Print the results\n",
    "print(f\"Training Loss: {train_loss}\")\n",
    "print(f\"Training Accuracy: {train_accuracy}\")\n",
    "print(f\"Validation Loss: {val_loss}\")\n",
    "print(f\"Validation Accuracy: {val_accuracy}\")"
   ]
  },
  {
   "cell_type": "code",
   "execution_count": 33,
   "metadata": {},
   "outputs": [],
   "source": [
    "# Save the trained model\n",
    "model.save('gesture_recognition_model.h5')"
   ]
  },
  {
   "cell_type": "code",
   "execution_count": 34,
   "metadata": {},
   "outputs": [
    {
     "name": "stdout",
     "output_type": "stream",
     "text": [
      "Found 265 images belonging to 5 classes.\n"
     ]
    }
   ],
   "source": [
    "test_datagen = ImageDataGenerator(rescale=1./255)\n",
    "\n",
    "test_generator = test_datagen.flow_from_directory(\n",
    "    'D:\\\\Btech_AI\\\\Projects\\\\Gesture-recognition\\\\Dataset\\\\test',\n",
    "    target_size=(input_shape[0], input_shape[1]),\n",
    "    batch_size=batch_size,\n",
    "    class_mode='categorical',\n",
    "    shuffle=False  # Set shuffle to False for the testing set\n",
    ")"
   ]
  }
 ],
 "metadata": {
  "kernelspec": {
   "display_name": "Python 3",
   "language": "python",
   "name": "python3"
  },
  "language_info": {
   "codemirror_mode": {
    "name": "ipython",
    "version": 3
   },
   "file_extension": ".py",
   "mimetype": "text/x-python",
   "name": "python",
   "nbconvert_exporter": "python",
   "pygments_lexer": "ipython3",
   "version": "3.11.5"
  }
 },
 "nbformat": 4,
 "nbformat_minor": 2
}
